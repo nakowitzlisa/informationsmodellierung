{
  "nbformat": 4,
  "nbformat_minor": 0,
  "metadata": {
    "colab": {
      "provenance": [],
      "toc_visible": true,
      "authorship_tag": "ABX9TyMzsyQdvfwbNmzQ8tZemlzX",
      "include_colab_link": true
    },
    "kernelspec": {
      "name": "python3",
      "display_name": "Python 3"
    },
    "language_info": {
      "name": "python"
    }
  },
  "cells": [
    {
      "cell_type": "markdown",
      "metadata": {
        "id": "view-in-github",
        "colab_type": "text"
      },
      "source": [
        "<a href=\"https://colab.research.google.com/github/nakowitzlisa/informationsmodellierung/blob/main/erster_Versuch.ipynb\" target=\"_parent\"><img src=\"https://colab.research.google.com/assets/colab-badge.svg\" alt=\"Open In Colab\"/></a>"
      ]
    },
    {
      "cell_type": "markdown",
      "source": [
        "**Das ist ein erster Versuch**"
      ],
      "metadata": {
        "id": "A-5OL5JWEbjn"
      }
    },
    {
      "cell_type": "code",
      "execution_count": 11,
      "metadata": {
        "id": "Qz-Pzr13Cn7u",
        "colab": {
          "base_uri": "https://localhost:8080/"
        },
        "outputId": "9869f8c2-f4ca-4e74-bbde-4ed6ef691958"
      },
      "outputs": [
        {
          "output_type": "stream",
          "name": "stdout",
          "text": [
            "Hallo\n"
          ]
        }
      ],
      "source": [
        "print(\"Hallo\")"
      ]
    },
    {
      "cell_type": "code",
      "source": [
        "print(\"Hallo2\")\n",
        "print(\"Hallo3\")"
      ],
      "metadata": {
        "colab": {
          "base_uri": "https://localhost:8080/"
        },
        "id": "rJ810iJRD9P-",
        "outputId": "f941f2ed-9e67-4b39-89eb-94457649a792"
      },
      "execution_count": 12,
      "outputs": [
        {
          "output_type": "stream",
          "name": "stdout",
          "text": [
            "Hallo2\n",
            "Hallo3\n"
          ]
        }
      ]
    },
    {
      "cell_type": "code",
      "source": [
        "print(\"Hallo4\")"
      ],
      "metadata": {
        "colab": {
          "base_uri": "https://localhost:8080/"
        },
        "id": "4EB_biN-E47G",
        "outputId": "fe12b18a-8fc5-45f9-ffb7-90a658b23ebb"
      },
      "execution_count": 13,
      "outputs": [
        {
          "output_type": "stream",
          "name": "stdout",
          "text": [
            "Hallo4\n"
          ]
        }
      ]
    }
  ]
}